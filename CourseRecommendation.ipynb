{
 "cells": [
  {
   "cell_type": "code",
   "execution_count": 110,
   "id": "efccb188-2de7-4d34-8f1c-add3e425c81f",
   "metadata": {},
   "outputs": [],
   "source": [
    "import pandas as pd\n",
    "import numpy as np\n",
    "import matplotlib.pyplot as plt\n",
    "import seaborn as sns\n",
    "from sklearn.preprocessing import LabelEncoder, StandardScaler\n",
    "from sklearn.neighbors import KNeighborsClassifier\n",
    "from sklearn.model_selection import cross_val_score\n",
    "from sklearn.metrics import accuracy_score, classification_report\n",
    "from sklearn.model_selection import train_test_split\n",
    "from sklearn.naive_bayes import GaussianNB\n",
    "from xgboost import XGBClassifier\n",
    "from sklearn.metrics import accuracy_score\n",
    "from sklearn.ensemble import RandomForestClassifier\n",
    "from sklearn.svm import SVC"
   ]
  },
  {
   "cell_type": "code",
   "execution_count": 111,
   "id": "c8245a5c-824a-449c-bba7-c0a1b0e1286f",
   "metadata": {},
   "outputs": [],
   "source": [
    "df = pd.read_csv(\"dataset_recommendation_cours.csv\")"
   ]
  },
  {
   "cell_type": "code",
   "execution_count": 112,
   "id": "8d35f1de-ef4d-4215-9856-dfb562d8a7b4",
   "metadata": {},
   "outputs": [
    {
     "data": {
      "text/html": [
       "<div>\n",
       "<style scoped>\n",
       "    .dataframe tbody tr th:only-of-type {\n",
       "        vertical-align: middle;\n",
       "    }\n",
       "\n",
       "    .dataframe tbody tr th {\n",
       "        vertical-align: top;\n",
       "    }\n",
       "\n",
       "    .dataframe thead th {\n",
       "        text-align: right;\n",
       "    }\n",
       "</style>\n",
       "<table border=\"1\" class=\"dataframe\">\n",
       "  <thead>\n",
       "    <tr style=\"text-align: right;\">\n",
       "      <th></th>\n",
       "      <th>LearningStyle</th>\n",
       "      <th>CareerGoal</th>\n",
       "      <th>Preferences</th>\n",
       "      <th>AcademicLevel</th>\n",
       "      <th>Module</th>\n",
       "      <th>Cours_Recommandé</th>\n",
       "    </tr>\n",
       "  </thead>\n",
       "  <tbody>\n",
       "    <tr>\n",
       "      <th>0</th>\n",
       "      <td>Kinesthésique</td>\n",
       "      <td>Cybersecurity Expert</td>\n",
       "      <td>IA</td>\n",
       "      <td>Licence 1</td>\n",
       "      <td>Machine Learning</td>\n",
       "      <td>Deep Learning avec TensorFlow</td>\n",
       "    </tr>\n",
       "    <tr>\n",
       "      <th>1</th>\n",
       "      <td>Visuel</td>\n",
       "      <td>Cloud Engineer</td>\n",
       "      <td>IA</td>\n",
       "      <td>Master 1</td>\n",
       "      <td>Machine Learning</td>\n",
       "      <td>Deep Learning avec TensorFlow</td>\n",
       "    </tr>\n",
       "    <tr>\n",
       "      <th>2</th>\n",
       "      <td>Lecture/Écriture</td>\n",
       "      <td>DevOps Engineer</td>\n",
       "      <td>Systèmes embarqués</td>\n",
       "      <td>Master 2</td>\n",
       "      <td>Cloud Computing</td>\n",
       "      <td>AWS Solutions Architect</td>\n",
       "    </tr>\n",
       "    <tr>\n",
       "      <th>3</th>\n",
       "      <td>Auditif</td>\n",
       "      <td>Cybersecurity Expert</td>\n",
       "      <td>Mathématiques</td>\n",
       "      <td>Licence 1</td>\n",
       "      <td>Sécurité Informatique</td>\n",
       "      <td>Sécurité Offensive et Pentesting</td>\n",
       "    </tr>\n",
       "    <tr>\n",
       "      <th>4</th>\n",
       "      <td>Kinesthésique</td>\n",
       "      <td>Cybersecurity Expert</td>\n",
       "      <td>Systèmes embarqués</td>\n",
       "      <td>Master 2</td>\n",
       "      <td>Sécurité Informatique</td>\n",
       "      <td>Sécurité Offensive et Pentesting</td>\n",
       "    </tr>\n",
       "  </tbody>\n",
       "</table>\n",
       "</div>"
      ],
      "text/plain": [
       "      LearningStyle            CareerGoal         Preferences AcademicLevel  \\\n",
       "0     Kinesthésique  Cybersecurity Expert                  IA     Licence 1   \n",
       "1            Visuel        Cloud Engineer                  IA      Master 1   \n",
       "2  Lecture/Écriture       DevOps Engineer  Systèmes embarqués      Master 2   \n",
       "3           Auditif  Cybersecurity Expert       Mathématiques     Licence 1   \n",
       "4     Kinesthésique  Cybersecurity Expert  Systèmes embarqués      Master 2   \n",
       "\n",
       "                  Module                  Cours_Recommandé  \n",
       "0       Machine Learning     Deep Learning avec TensorFlow  \n",
       "1       Machine Learning     Deep Learning avec TensorFlow  \n",
       "2        Cloud Computing           AWS Solutions Architect  \n",
       "3  Sécurité Informatique  Sécurité Offensive et Pentesting  \n",
       "4  Sécurité Informatique  Sécurité Offensive et Pentesting  "
      ]
     },
     "execution_count": 112,
     "metadata": {},
     "output_type": "execute_result"
    }
   ],
   "source": [
    "df.head()"
   ]
  },
  {
   "cell_type": "code",
   "execution_count": 113,
   "id": "07f4a1db-704c-4bbf-8bb4-68d716533fdd",
   "metadata": {},
   "outputs": [
    {
     "data": {
      "text/html": [
       "<div>\n",
       "<style scoped>\n",
       "    .dataframe tbody tr th:only-of-type {\n",
       "        vertical-align: middle;\n",
       "    }\n",
       "\n",
       "    .dataframe tbody tr th {\n",
       "        vertical-align: top;\n",
       "    }\n",
       "\n",
       "    .dataframe thead th {\n",
       "        text-align: right;\n",
       "    }\n",
       "</style>\n",
       "<table border=\"1\" class=\"dataframe\">\n",
       "  <thead>\n",
       "    <tr style=\"text-align: right;\">\n",
       "      <th></th>\n",
       "      <th>LearningStyle</th>\n",
       "      <th>CareerGoal</th>\n",
       "      <th>Preferences</th>\n",
       "      <th>AcademicLevel</th>\n",
       "      <th>Module</th>\n",
       "      <th>Cours_Recommandé</th>\n",
       "    </tr>\n",
       "  </thead>\n",
       "  <tbody>\n",
       "    <tr>\n",
       "      <th>count</th>\n",
       "      <td>1000</td>\n",
       "      <td>1000</td>\n",
       "      <td>1000</td>\n",
       "      <td>1000</td>\n",
       "      <td>1000</td>\n",
       "      <td>1000</td>\n",
       "    </tr>\n",
       "    <tr>\n",
       "      <th>unique</th>\n",
       "      <td>4</td>\n",
       "      <td>5</td>\n",
       "      <td>5</td>\n",
       "      <td>5</td>\n",
       "      <td>5</td>\n",
       "      <td>5</td>\n",
       "    </tr>\n",
       "    <tr>\n",
       "      <th>top</th>\n",
       "      <td>Lecture/Écriture</td>\n",
       "      <td>Data Scientist</td>\n",
       "      <td>Mathématiques</td>\n",
       "      <td>Licence 1</td>\n",
       "      <td>Sécurité Informatique</td>\n",
       "      <td>Sécurité Offensive et Pentesting</td>\n",
       "    </tr>\n",
       "    <tr>\n",
       "      <th>freq</th>\n",
       "      <td>257</td>\n",
       "      <td>227</td>\n",
       "      <td>211</td>\n",
       "      <td>218</td>\n",
       "      <td>218</td>\n",
       "      <td>218</td>\n",
       "    </tr>\n",
       "  </tbody>\n",
       "</table>\n",
       "</div>"
      ],
      "text/plain": [
       "           LearningStyle      CareerGoal    Preferences AcademicLevel  \\\n",
       "count               1000            1000           1000          1000   \n",
       "unique                 4               5              5             5   \n",
       "top     Lecture/Écriture  Data Scientist  Mathématiques     Licence 1   \n",
       "freq                 257             227            211           218   \n",
       "\n",
       "                       Module                  Cours_Recommandé  \n",
       "count                    1000                              1000  \n",
       "unique                      5                                 5  \n",
       "top     Sécurité Informatique  Sécurité Offensive et Pentesting  \n",
       "freq                      218                               218  "
      ]
     },
     "execution_count": 113,
     "metadata": {},
     "output_type": "execute_result"
    }
   ],
   "source": [
    "df.describe()"
   ]
  },
  {
   "cell_type": "code",
   "execution_count": 114,
   "id": "5c510139-98fa-483d-a3f3-30755eeb242c",
   "metadata": {},
   "outputs": [
    {
     "data": {
      "text/plain": [
       "Index(['LearningStyle', 'CareerGoal', 'Preferences', 'AcademicLevel', 'Module',\n",
       "       'Cours_Recommandé'],\n",
       "      dtype='object')"
      ]
     },
     "execution_count": 114,
     "metadata": {},
     "output_type": "execute_result"
    }
   ],
   "source": [
    "df.columns"
   ]
  },
  {
   "cell_type": "code",
   "execution_count": 115,
   "id": "a9fc5ed7-2bba-4c3f-be72-28d3524058a1",
   "metadata": {},
   "outputs": [
    {
     "name": "stdout",
     "output_type": "stream",
     "text": [
      "<class 'pandas.core.frame.DataFrame'>\n",
      "RangeIndex: 1000 entries, 0 to 999\n",
      "Data columns (total 6 columns):\n",
      " #   Column            Non-Null Count  Dtype \n",
      "---  ------            --------------  ----- \n",
      " 0   LearningStyle     1000 non-null   object\n",
      " 1   CareerGoal        1000 non-null   object\n",
      " 2   Preferences       1000 non-null   object\n",
      " 3   AcademicLevel     1000 non-null   object\n",
      " 4   Module            1000 non-null   object\n",
      " 5   Cours_Recommandé  1000 non-null   object\n",
      "dtypes: object(6)\n",
      "memory usage: 47.0+ KB\n"
     ]
    }
   ],
   "source": [
    "df.info()"
   ]
  },
  {
   "cell_type": "code",
   "execution_count": 207,
   "id": "609b7918-f3a3-4511-a7c0-158dc147f92f",
   "metadata": {},
   "outputs": [
    {
     "name": "stdout",
     "output_type": "stream",
     "text": [
      "Nombre de doublons: 172\n"
     ]
    }
   ],
   "source": [
    "print(\"Nombre de doublons:\", df.duplicated().sum())"
   ]
  },
  {
   "cell_type": "code",
   "execution_count": 209,
   "id": "07dd09fc-f9a6-42fd-8515-5b2350810925",
   "metadata": {},
   "outputs": [],
   "source": [
    "df.drop_duplicates(inplace=True)"
   ]
  },
  {
   "cell_type": "code",
   "execution_count": 211,
   "id": "8425f8f6-8bbb-483b-bb10-0a081a513645",
   "metadata": {},
   "outputs": [
    {
     "name": "stdout",
     "output_type": "stream",
     "text": [
      "Nombre de doublons: 0\n"
     ]
    }
   ],
   "source": [
    "print(\"Nombre de doublons:\", df.duplicated().sum())"
   ]
  },
  {
   "cell_type": "code",
   "execution_count": 119,
   "id": "55c7b4d1-d75f-4522-9cd5-ec69573389f9",
   "metadata": {},
   "outputs": [
    {
     "name": "stdout",
     "output_type": "stream",
     "text": [
      "Valeurs manquantes: LearningStyle       0\n",
      "CareerGoal          0\n",
      "Preferences         0\n",
      "AcademicLevel       0\n",
      "Module              0\n",
      "Cours_Recommandé    0\n",
      "dtype: int64\n"
     ]
    }
   ],
   "source": [
    "print(\"Valeurs manquantes:\", df.isnull().sum())"
   ]
  },
  {
   "cell_type": "code",
   "execution_count": 120,
   "id": "eb670905-6e03-45c5-ae87-d9797c316fa4",
   "metadata": {},
   "outputs": [],
   "source": [
    "\n",
    "df.dropna(inplace=True)"
   ]
  },
  {
   "cell_type": "code",
   "execution_count": 121,
   "id": "85e63ab6-8c2d-4dbe-b6e9-45c2881140c4",
   "metadata": {},
   "outputs": [],
   "source": [
    "# Encodage des variables catégorielles\n",
    "label_encoders = {}\n",
    "for col in df.select_dtypes(include=['object']).columns:\n",
    "    le = LabelEncoder()\n",
    "    df[col] = le.fit_transform(df[col])\n",
    "    label_encoders[col] = le  # Stocker l'encodeur pour une utilisation future\n"
   ]
  },
  {
   "cell_type": "code",
   "execution_count": 122,
   "id": "30d93a9d-cf80-41db-a3b3-80d33807d7cb",
   "metadata": {},
   "outputs": [],
   "source": [
    "# Détection et suppression des valeurs aberrantes avec l'IQR\n",
    "def remove_outliers(df):\n",
    "    Q1 = df.quantile(0.25)\n",
    "    Q3 = df.quantile(0.75)\n",
    "    IQR = Q3 - Q1\n",
    "    return df[~((df < (Q1 - 1.5 * IQR)) | (df > (Q3 + 1.5 * IQR))).any(axis=1)]\n",
    "\n",
    "df_cleaned = remove_outliers(df)\n"
   ]
  },
  {
   "cell_type": "code",
   "execution_count": 123,
   "id": "d304a706-2243-4a38-b1e7-c0b4279ceeb0",
   "metadata": {},
   "outputs": [],
   "source": [
    "from sklearn.preprocessing import MinMaxScaler, StandardScaler\n",
    "import pandas as pd\n",
    "\n",
    "# Vérification si le dataset est vide après nettoyage\n",
    "if df_cleaned.empty:\n",
    "    print(\"Aucune donnée après suppression des valeurs aberrantes.\")\n",
    "else:\n",
    "    # Normalisation (MinMaxScaler)\n",
    "    scaler_minmax = MinMaxScaler()\n",
    "    df_normalized = pd.DataFrame(scaler_minmax.fit_transform(df_cleaned), columns=df_cleaned.columns)\n",
    "\n",
    "    # Standardisation (StandardScaler)\n",
    "    scaler_std = StandardScaler()\n",
    "    df_standardized = pd.DataFrame(scaler_std.fit_transform(df_cleaned), columns=df_cleaned.columns)\n"
   ]
  },
  {
   "cell_type": "code",
   "execution_count": 124,
   "id": "e04ae7eb-8670-42fc-8ea6-423dbd907e23",
   "metadata": {},
   "outputs": [
    {
     "data": {
      "text/html": [
       "<div>\n",
       "<style scoped>\n",
       "    .dataframe tbody tr th:only-of-type {\n",
       "        vertical-align: middle;\n",
       "    }\n",
       "\n",
       "    .dataframe tbody tr th {\n",
       "        vertical-align: top;\n",
       "    }\n",
       "\n",
       "    .dataframe thead th {\n",
       "        text-align: right;\n",
       "    }\n",
       "</style>\n",
       "<table border=\"1\" class=\"dataframe\">\n",
       "  <thead>\n",
       "    <tr style=\"text-align: right;\">\n",
       "      <th></th>\n",
       "      <th>LearningStyle</th>\n",
       "      <th>CareerGoal</th>\n",
       "      <th>Preferences</th>\n",
       "      <th>AcademicLevel</th>\n",
       "      <th>Module</th>\n",
       "      <th>Cours_Recommandé</th>\n",
       "    </tr>\n",
       "  </thead>\n",
       "  <tbody>\n",
       "    <tr>\n",
       "      <th>0</th>\n",
       "      <td>0.333333</td>\n",
       "      <td>0.25</td>\n",
       "      <td>0.00</td>\n",
       "      <td>0.00</td>\n",
       "      <td>0.75</td>\n",
       "      <td>0.5</td>\n",
       "    </tr>\n",
       "    <tr>\n",
       "      <th>1</th>\n",
       "      <td>1.000000</td>\n",
       "      <td>0.00</td>\n",
       "      <td>0.00</td>\n",
       "      <td>0.75</td>\n",
       "      <td>0.75</td>\n",
       "      <td>0.5</td>\n",
       "    </tr>\n",
       "    <tr>\n",
       "      <th>2</th>\n",
       "      <td>0.666667</td>\n",
       "      <td>0.75</td>\n",
       "      <td>0.75</td>\n",
       "      <td>1.00</td>\n",
       "      <td>0.00</td>\n",
       "      <td>0.0</td>\n",
       "    </tr>\n",
       "    <tr>\n",
       "      <th>3</th>\n",
       "      <td>0.000000</td>\n",
       "      <td>0.25</td>\n",
       "      <td>0.25</td>\n",
       "      <td>0.00</td>\n",
       "      <td>1.00</td>\n",
       "      <td>1.0</td>\n",
       "    </tr>\n",
       "    <tr>\n",
       "      <th>4</th>\n",
       "      <td>0.333333</td>\n",
       "      <td>0.25</td>\n",
       "      <td>0.75</td>\n",
       "      <td>1.00</td>\n",
       "      <td>1.00</td>\n",
       "      <td>1.0</td>\n",
       "    </tr>\n",
       "  </tbody>\n",
       "</table>\n",
       "</div>"
      ],
      "text/plain": [
       "   LearningStyle  CareerGoal  Preferences  AcademicLevel  Module  \\\n",
       "0       0.333333        0.25         0.00           0.00    0.75   \n",
       "1       1.000000        0.00         0.00           0.75    0.75   \n",
       "2       0.666667        0.75         0.75           1.00    0.00   \n",
       "3       0.000000        0.25         0.25           0.00    1.00   \n",
       "4       0.333333        0.25         0.75           1.00    1.00   \n",
       "\n",
       "   Cours_Recommandé  \n",
       "0               0.5  \n",
       "1               0.5  \n",
       "2               0.0  \n",
       "3               1.0  \n",
       "4               1.0  "
      ]
     },
     "execution_count": 124,
     "metadata": {},
     "output_type": "execute_result"
    }
   ],
   "source": [
    " df_normalized.head()"
   ]
  },
  {
   "cell_type": "code",
   "execution_count": 125,
   "id": "705ad243-ea1e-4f78-b2b1-060c1533c95b",
   "metadata": {},
   "outputs": [
    {
     "data": {
      "text/html": [
       "<div>\n",
       "<style scoped>\n",
       "    .dataframe tbody tr th:only-of-type {\n",
       "        vertical-align: middle;\n",
       "    }\n",
       "\n",
       "    .dataframe tbody tr th {\n",
       "        vertical-align: top;\n",
       "    }\n",
       "\n",
       "    .dataframe thead th {\n",
       "        text-align: right;\n",
       "    }\n",
       "</style>\n",
       "<table border=\"1\" class=\"dataframe\">\n",
       "  <thead>\n",
       "    <tr style=\"text-align: right;\">\n",
       "      <th></th>\n",
       "      <th>LearningStyle</th>\n",
       "      <th>CareerGoal</th>\n",
       "      <th>Preferences</th>\n",
       "      <th>AcademicLevel</th>\n",
       "      <th>Module</th>\n",
       "      <th>Cours_Recommandé</th>\n",
       "    </tr>\n",
       "  </thead>\n",
       "  <tbody>\n",
       "    <tr>\n",
       "      <th>0</th>\n",
       "      <td>-0.462196</td>\n",
       "      <td>-0.697803</td>\n",
       "      <td>-1.382855</td>\n",
       "      <td>-1.375451</td>\n",
       "      <td>0.664962</td>\n",
       "      <td>-0.048256</td>\n",
       "    </tr>\n",
       "    <tr>\n",
       "      <th>1</th>\n",
       "      <td>1.330302</td>\n",
       "      <td>-1.416436</td>\n",
       "      <td>-1.382855</td>\n",
       "      <td>0.716784</td>\n",
       "      <td>0.664962</td>\n",
       "      <td>-0.048256</td>\n",
       "    </tr>\n",
       "    <tr>\n",
       "      <th>2</th>\n",
       "      <td>0.434053</td>\n",
       "      <td>0.739463</td>\n",
       "      <td>0.736214</td>\n",
       "      <td>1.414196</td>\n",
       "      <td>-1.444573</td>\n",
       "      <td>-1.450215</td>\n",
       "    </tr>\n",
       "    <tr>\n",
       "      <th>3</th>\n",
       "      <td>-1.358445</td>\n",
       "      <td>-0.697803</td>\n",
       "      <td>-0.676498</td>\n",
       "      <td>-1.375451</td>\n",
       "      <td>1.368141</td>\n",
       "      <td>1.353703</td>\n",
       "    </tr>\n",
       "    <tr>\n",
       "      <th>4</th>\n",
       "      <td>-0.462196</td>\n",
       "      <td>-0.697803</td>\n",
       "      <td>0.736214</td>\n",
       "      <td>1.414196</td>\n",
       "      <td>1.368141</td>\n",
       "      <td>1.353703</td>\n",
       "    </tr>\n",
       "  </tbody>\n",
       "</table>\n",
       "</div>"
      ],
      "text/plain": [
       "   LearningStyle  CareerGoal  Preferences  AcademicLevel    Module  \\\n",
       "0      -0.462196   -0.697803    -1.382855      -1.375451  0.664962   \n",
       "1       1.330302   -1.416436    -1.382855       0.716784  0.664962   \n",
       "2       0.434053    0.739463     0.736214       1.414196 -1.444573   \n",
       "3      -1.358445   -0.697803    -0.676498      -1.375451  1.368141   \n",
       "4      -0.462196   -0.697803     0.736214       1.414196  1.368141   \n",
       "\n",
       "   Cours_Recommandé  \n",
       "0         -0.048256  \n",
       "1         -0.048256  \n",
       "2         -1.450215  \n",
       "3          1.353703  \n",
       "4          1.353703  "
      ]
     },
     "execution_count": 125,
     "metadata": {},
     "output_type": "execute_result"
    }
   ],
   "source": [
    "df_standardized.head()"
   ]
  },
  {
   "cell_type": "code",
   "execution_count": null,
   "id": "59703e1d-eef4-4171-9913-03ce3da176df",
   "metadata": {},
   "outputs": [],
   "source": []
  },
  {
   "cell_type": "code",
   "execution_count": 126,
   "id": "22a04c09-dd41-4e07-a963-0bd811c4e82c",
   "metadata": {},
   "outputs": [
    {
     "data": {
      "text/plain": [
       "<bound method NDFrame.describe of      LearningStyle  CareerGoal  Preferences  AcademicLevel    Module  \\\n",
       "0        -0.462196   -0.697803    -1.382855      -1.375451  0.664962   \n",
       "1         1.330302   -1.416436    -1.382855       0.716784  0.664962   \n",
       "2         0.434053    0.739463     0.736214       1.414196 -1.444573   \n",
       "3        -1.358445   -0.697803    -0.676498      -1.375451  1.368141   \n",
       "4        -0.462196   -0.697803     0.736214       1.414196  1.368141   \n",
       "..             ...         ...          ...            ...       ...   \n",
       "823      -1.358445    0.739463     1.442571      -1.375451  1.368141   \n",
       "824      -1.358445    0.020830     1.442571      -1.375451 -1.444573   \n",
       "825      -0.462196    0.020830    -0.676498       1.414196 -0.038216   \n",
       "826      -1.358445    0.739463    -1.382855       0.716784  1.368141   \n",
       "827       1.330302    0.020830     0.029858       0.716784  1.368141   \n",
       "\n",
       "     Cours_Recommandé  \n",
       "0           -0.048256  \n",
       "1           -0.048256  \n",
       "2           -1.450215  \n",
       "3            1.353703  \n",
       "4            1.353703  \n",
       "..                ...  \n",
       "823          1.353703  \n",
       "824         -1.450215  \n",
       "825          0.652724  \n",
       "826          1.353703  \n",
       "827          1.353703  \n",
       "\n",
       "[828 rows x 6 columns]>"
      ]
     },
     "execution_count": 126,
     "metadata": {},
     "output_type": "execute_result"
    }
   ],
   "source": [
    "df_standardized.describe"
   ]
  },
  {
   "cell_type": "code",
   "execution_count": 215,
   "id": "2540d541-e6af-4c0b-9b96-e3a5e325399b",
   "metadata": {},
   "outputs": [
    {
     "data": {
      "image/png": "[encoded data removed]",
      "text/plain": [
       "<Figure size 800x800 with 2 Axes>"
      ]
     },
     "metadata": {},
     "output_type": "display_data"
    }
   ],
   "source": [
    "# Matrice de corrélation pour détecter les variables redondantes\n",
    "plt.figure(figsize=(8, 8))\n",
    "sns.heatmap(df.corr(), annot=True, cmap=\"coolwarm\", fmt=\".2f\")\n",
    "plt.title(\"Matrice de corrélation\")\n",
    "plt.show()"
   ]
  },
  {
   "cell_type": "code",
   "execution_count": 180,
   "id": "6a4b4459-b035-4463-8ac1-41f402ab14dc",
   "metadata": {},
   "outputs": [],
   "source": [
    "X = df_cleaned.drop(columns=[\"Cours_Recommandé\"])  # Supposons que c'est la colonne cible\n",
    "y = df_cleaned[\"Cours_Recommandé\"]\n",
    "\n",
    "# Division en train et test (80% train, 20% test)\n",
    "X_train, X_test, y_train, y_test = train_test_split(X, y, test_size=0.2, random_state=42)\n"
   ]
  },
  {
   "cell_type": "code",
   "execution_count": 213,
   "id": "d06a73e1-3d9a-4890-af06-d5b91aaa762e",
   "metadata": {},
   "outputs": [
    {
     "name": "stdout",
     "output_type": "stream",
     "text": [
      "Meilleur k sélectionné : 8\n"
     ]
    }
   ],
   "source": [
    "\n",
    "\n",
    "\n",
    "k_values = range(1, 100)\n",
    "\n",
    "\n",
    "cv_scores = []\n",
    "\n",
    "\n",
    "for k in k_values:\n",
    "    model = KNeighborsClassifier(n_neighbors=k)\n",
    "    scores = cross_val_score(model, X_train, y_train, cv=5, scoring='accuracy') \n",
    "    cv_scores.append(scores.mean()) \n",
    "\n",
    "\n",
    "best_k = k_values[np.argmax(cv_scores)]\n",
    "print(f\"Meilleur k sélectionné : {best_k}\")\n",
    "\n",
    "\n",
    "best_model = KNeighborsClassifier(n_neighbors=best_k)\n",
    "best_model.fit(X_train, y_train)\n",
    "\n",
    "y_pred = best_model.predict(X_test)\n",
    "\n",
    "\n"
   ]
  },
  {
   "cell_type": "code",
   "execution_count": 184,
   "id": "ab80684b-507b-4ea9-a9f5-58e225cd9869",
   "metadata": {},
   "outputs": [
    {
     "data": {
      "text/plain": [
       "0.8554216867469879"
      ]
     },
     "execution_count": 184,
     "metadata": {},
     "output_type": "execute_result"
    }
   ],
   "source": [
    "accuracy_score(y_test, y_pred)"
   ]
  },
  {
   "cell_type": "code",
   "execution_count": 186,
   "id": "8f06ad1f-435b-4b2d-b2cd-9955f2bf6376",
   "metadata": {},
   "outputs": [
    {
     "data": {
      "text/plain": [
       "'              precision    recall  f1-score   support\\n\\n           0       0.92      0.92      0.92        38\\n           1       0.75      0.90      0.82        30\\n           2       0.79      0.84      0.82        32\\n           3       0.87      0.79      0.83        33\\n           4       0.96      0.82      0.89        33\\n\\n    accuracy                           0.86       166\\n   macro avg       0.86      0.85      0.85       166\\nweighted avg       0.86      0.86      0.86       166\\n'"
      ]
     },
     "execution_count": 186,
     "metadata": {},
     "output_type": "execute_result"
    }
   ],
   "source": [
    "classification_report(y_test, y_pred)"
   ]
  },
  {
   "cell_type": "code",
   "execution_count": 132,
   "id": "3494ca79-4e66-44f2-83f7-9e6f56a78c82",
   "metadata": {},
   "outputs": [],
   "source": [
    "\n",
    "\n",
    "model = GaussianNB()\n",
    "model.fit(X_train, y_train)\n",
    "y_pred = model.predict(X_test)"
   ]
  },
  {
   "cell_type": "code",
   "execution_count": 133,
   "id": "a97e7895-28fe-4261-96ef-cb613a4bbee1",
   "metadata": {},
   "outputs": [
    {
     "data": {
      "text/plain": [
       "1.0"
      ]
     },
     "execution_count": 133,
     "metadata": {},
     "output_type": "execute_result"
    }
   ],
   "source": [
    "accuracy_score(y_test, y_pred)"
   ]
  },
  {
   "cell_type": "code",
   "execution_count": 134,
   "id": "dd34f22d-635c-43f7-bebf-85f705b9634d",
   "metadata": {},
   "outputs": [
    {
     "data": {
      "text/plain": [
       "'              precision    recall  f1-score   support\\n\\n           0       1.00      1.00      1.00        38\\n           1       1.00      1.00      1.00        30\\n           2       1.00      1.00      1.00        32\\n           3       1.00      1.00      1.00        33\\n           4       1.00      1.00      1.00        33\\n\\n    accuracy                           1.00       166\\n   macro avg       1.00      1.00      1.00       166\\nweighted avg       1.00      1.00      1.00       166\\n'"
      ]
     },
     "execution_count": 134,
     "metadata": {},
     "output_type": "execute_result"
    }
   ],
   "source": [
    "classification_report(y_test, y_pred)"
   ]
  },
  {
   "cell_type": "code",
   "execution_count": 188,
   "id": "87ff56a5-6ccf-4245-9752-77118f83c5d0",
   "metadata": {},
   "outputs": [
    {
     "data": {
      "text/plain": [
       "'              precision    recall  f1-score   support\\n\\n           0       1.00      1.00      1.00        38\\n           1       1.00      1.00      1.00        30\\n           2       1.00      1.00      1.00        32\\n           3       1.00      1.00      1.00        33\\n           4       1.00      1.00      1.00        33\\n\\n    accuracy                           1.00       166\\n   macro avg       1.00      1.00      1.00       166\\nweighted avg       1.00      1.00      1.00       166\\n'"
      ]
     },
     "execution_count": 188,
     "metadata": {},
     "output_type": "execute_result"
    }
   ],
   "source": [
    "\n",
    "\n",
    "model = SVC(kernel=\"linear\")\n",
    "model.fit(X_train, y_train)\n",
    "y_pred = model.predict(X_test)\n",
    "accuracy_score(y_test, y_pred)\n",
    "classification_report(y_test, y_pred)"
   ]
  },
  {
   "cell_type": "code",
   "execution_count": 190,
   "id": "0ee4d58a-6791-4d08-b9c3-c635a82a17a2",
   "metadata": {},
   "outputs": [
    {
     "data": {
      "text/plain": [
       "1.0"
      ]
     },
     "execution_count": 190,
     "metadata": {},
     "output_type": "execute_result"
    }
   ],
   "source": [
    "accuracy_score(y_test, y_pred)"
   ]
  },
  {
   "cell_type": "code",
   "execution_count": 137,
   "id": "cd5d8fe1-fab9-4f8a-b9cf-1908f087ec58",
   "metadata": {},
   "outputs": [
    {
     "data": {
      "text/plain": [
       "1.0"
      ]
     },
     "execution_count": 137,
     "metadata": {},
     "output_type": "execute_result"
    }
   ],
   "source": [
    "\n",
    "\n",
    "model = RandomForestClassifier(n_estimators=100, random_state=42)\n",
    "model.fit(X_train, y_train)\n",
    "y_pred = model.predict(X_test)\n",
    "\n",
    "accuracy_score(y_test, y_pred)\n",
    "\n"
   ]
  },
  {
   "cell_type": "code",
   "execution_count": 138,
   "id": "9ac7e35d-57d9-4e53-affc-2a06ac4b5561",
   "metadata": {},
   "outputs": [
    {
     "name": "stdout",
     "output_type": "stream",
     "text": [
      "Requirement already satisfied: xgboost in c:\\users\\meyyo\\anaconda3\\lib\\site-packages (2.1.4)\n",
      "Requirement already satisfied: numpy in c:\\users\\meyyo\\anaconda3\\lib\\site-packages (from xgboost) (1.26.4)\n",
      "Requirement already satisfied: scipy in c:\\users\\meyyo\\anaconda3\\lib\\site-packages (from xgboost) (1.13.1)\n"
     ]
    }
   ],
   "source": [
    "!pip install xgboost\n"
   ]
  },
  {
   "cell_type": "code",
   "execution_count": 139,
   "id": "2965fa6e-722e-4021-b1ef-806f5bd0fd85",
   "metadata": {},
   "outputs": [
    {
     "name": "stdout",
     "output_type": "stream",
     "text": [
      "Accuracy : 1.0\n"
     ]
    }
   ],
   "source": [
    "\n",
    "\n",
    "# Initialisation du modèle sans use_label_encoder\n",
    "model = XGBClassifier(eval_metric='mlogloss', random_state=42)\n",
    "\n",
    "# Entraînement\n",
    "model.fit(X_train, y_train)\n",
    "\n",
    "# Prédiction\n",
    "y_pred = model.predict(X_test)\n",
    "\n",
    "# Évaluation\n",
    "accuracy = accuracy_score(y_test, y_pred)\n",
    "print(\"Accuracy :\", accuracy)\n",
    "\n",
    "\n"
   ]
  },
  {
   "cell_type": "code",
   "execution_count": null,
   "id": "365e4b63-ec54-4559-bdff-bae6e574c9cc",
   "metadata": {},
   "outputs": [],
   "source": []
  },
  {
   "cell_type": "code",
   "execution_count": null,
   "id": "5dbb6465-0f8e-48f3-bad9-089033408d6d",
   "metadata": {},
   "outputs": [],
   "source": [
    "\n"
   ]
  },
  {
   "cell_type": "code",
   "execution_count": null,
   "id": "6491c300-94d4-4d3b-9ca5-4a583b4ece66",
   "metadata": {},
   "outputs": [],
   "source": []
  }
 ],
 "metadata": {
  "kernelspec": {
   "display_name": "Python [conda env:base] *",
   "language": "python",
   "name": "conda-base-py"
  },
  "language_info": {
   "codemirror_mode": {
    "name": "ipython",
    "version": 3
   },
   "file_extension": ".py",
   "mimetype": "text/x-python",
   "name": "python",
   "nbconvert_exporter": "python",
   "pygments_lexer": "ipython3",
   "version": "3.12.7"
  }
 },
 "nbformat": 4,
 "nbformat_minor": 5
}
